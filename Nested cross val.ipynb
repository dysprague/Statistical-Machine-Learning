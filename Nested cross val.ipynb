{
 "cells": [
  {
   "cell_type": "code",
   "execution_count": null,
   "metadata": {},
   "outputs": [],
   "source": [
    "import numpy as np\n",
    "import csv\n",
    "from sklearn.linear_model import LogisticRegression\n",
    "from sklearn.metrics import f1_score\n",
    "from statistics import stdev \n",
    "import random\n",
    "from sklearn.model_selection import StratifiedKFold"
   ]
  },
  {
   "cell_type": "code",
   "execution_count": null,
   "metadata": {},
   "outputs": [],
   "source": [
    "def read_data():\n",
    "    data = []\n",
    "    with open('transfusion.data') as csvfile:\n",
    "        reader = csv.reader(csvfile)\n",
    "        headers = next(reader) # take the header out\n",
    "        for row in reader: # each row is a list\n",
    "            data.append(row)\n",
    "    data  = np.array(data, dtype = np.int32)\n",
    "    random.shuffle(data)\n",
    "    X = data[:,:-1]\n",
    "    y = data[:,-1]\n",
    "    \n",
    "    return X, y"
   ]
  },
  {
   "cell_type": "code",
   "execution_count": null,
   "metadata": {},
   "outputs": [],
   "source": [
    "X, y = read_data()\n",
    "C= [0.1, 1, 10, 100] # Hyperparameter for regularization\n",
    "skf=StratifiedKFold(n_splits=5)\n",
    "fin_score=[]"
   ]
  },
  {
   "cell_type": "code",
   "execution_count": null,
   "metadata": {},
   "outputs": [],
   "source": [
    "for train_index, test_index in skf.split(X, y): #outer loop, test sets\n",
    "    X_trainval, X_test = X[train_index], X[test_index]\n",
    "    y_trainval, y_test = y[train_index], y[test_index]\n",
    "    \n",
    "    ctest=np.empty([4,5])\n",
    "\n",
    "    skf= StratifiedKFold(n_splits=4)\n",
    "    for train_index, val_index in skf.split(X_trainval, y_trainval): #loop validation\n",
    "        X_train, X_val = X[train_index], X[val_index]\n",
    "        y_train, y_val = y[train_index], y[val_index]\n",
    "\n",
    "        for k in range(len(C)):\n",
    "            c=C[k]\n",
    "            model = LogisticRegression(C=c)\n",
    "            model.fit(X_train, y_train) # training\n",
    "            val_pred = model.predict(X_val) # predicting\n",
    "            ctest[k][j]=f1_score(y_val, val_pred)\n",
    "    best_c=0\n",
    "    for k in range(len(C)):\n",
    "        avg=sum(ctest[k])/4\n",
    "        if avg>best_c:\n",
    "            best=k\n",
    "    \n",
    "    test_c= C[best]\n",
    "    model=LogisticRegression(C=test_c)\n",
    "    model.fit(trainval, trainvaly)\n",
    "    test_pred = model.predict(test)\n",
    "    testscore= f1_score(testy, test_pred)\n",
    "    fin_score.append(testscore)\n"
   ]
  },
  {
   "cell_type": "code",
   "execution_count": null,
   "metadata": {},
   "outputs": [],
   "source": [
    "print(fin_score)\n",
    "fin_avg= sum(fin_score)/5\n",
    "fin_std= stdev(fin_score)\n",
    "\n",
    "print('Mean:', fin_avg)\n",
    "print('Standard deviation:', fin_std)\n"
   ]
  },
  {
   "cell_type": "code",
   "execution_count": null,
   "metadata": {},
   "outputs": [],
   "source": []
  }
 ],
 "metadata": {
  "kernelspec": {
   "display_name": "Python 3",
   "language": "python",
   "name": "python3"
  }
 },
 "nbformat": 4,
 "nbformat_minor": 2
}
