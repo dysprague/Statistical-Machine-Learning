{
 "cells": [
  {
   "cell_type": "code",
   "execution_count": 1,
   "metadata": {},
   "outputs": [],
   "source": [
    "import numpy as np\n",
    "import math\n",
    "import scipy.io as sio\n",
    "from tqdm import tqdm\n",
    "import matplotlib.pyplot as plt"
   ]
  },
  {
   "cell_type": "markdown",
   "metadata": {},
   "source": [
    "### Load Data"
   ]
  },
  {
   "cell_type": "code",
   "execution_count": 2,
   "metadata": {},
   "outputs": [],
   "source": [
    "tmp = sio.loadmat(\"mnist_all.mat\")\n",
    "train0= tmp['train0']\n",
    "train1= tmp['train1']\n",
    "test0= tmp['test0']\n",
    "test1= tmp['test1']\n",
    "\n",
    "xtrain= np.vstack((train0, train1))\n",
    "ytrain=np.hstack((np.zeros(train0.shape[0]), np.ones(train1.shape[0])))\n",
    "ytrain= np.asmatrix(ytrain)\n",
    "xtrain= xtrain.T\n",
    "xtest= np.vstack((test0, test1))\n",
    "ytest= np.hstack((np.zeros(test0.shape[0]), np.ones(test1.shape[0])))\n",
    "ytest= np.asmatrix(ytest)\n",
    "xtest= xtest.T"
   ]
  },
  {
   "cell_type": "code",
   "execution_count": 3,
   "metadata": {},
   "outputs": [
    {
     "name": "stdout",
     "output_type": "stream",
     "text": [
      "(785, 12665)\n",
      "[[0. 0. 0. ... 0. 0. 0.]\n",
      " [0. 0. 0. ... 0. 0. 0.]\n",
      " [0. 0. 0. ... 0. 0. 0.]\n",
      " ...\n",
      " [0. 0. 0. ... 0. 0. 0.]\n",
      " [0. 0. 0. ... 0. 0. 0.]\n",
      " [0. 0. 1. ... 0. 1. 1.]]\n",
      "(784, 12665)\n",
      "(1, 12665)\n"
     ]
    }
   ],
   "source": [
    "train= np.vstack((xtrain, ytrain))\n",
    "train= train.T\n",
    "np.random.shuffle(train)\n",
    "train=train.T\n",
    "print(train.shape)\n",
    "print(train)\n",
    "xtrain= np.split(train, [-1])[0]\n",
    "ytrain=np.split(train, [-1])[1]\n",
    "print(xtrain.shape)\n",
    "print(ytrain.shape)"
   ]
  },
  {
   "cell_type": "code",
   "execution_count": 4,
   "metadata": {},
   "outputs": [
    {
     "name": "stdout",
     "output_type": "stream",
     "text": [
      "(785, 2115)\n",
      "[[0. 0. 0. ... 0. 0. 0.]\n",
      " [0. 0. 0. ... 0. 0. 0.]\n",
      " [0. 0. 0. ... 0. 0. 0.]\n",
      " ...\n",
      " [0. 0. 0. ... 0. 0. 0.]\n",
      " [0. 0. 0. ... 0. 0. 0.]\n",
      " [1. 1. 1. ... 1. 1. 1.]]\n",
      "(784, 2115)\n",
      "(1, 2115)\n"
     ]
    }
   ],
   "source": [
    "test= np.vstack((xtest, ytest))\n",
    "test= test.T\n",
    "np.random.shuffle(test)\n",
    "test=test.T\n",
    "print(test.shape)\n",
    "print(test)\n",
    "xtest= np.split(test, [-1])[0]\n",
    "ytest=np.split(test, [-1])[1]\n",
    "print(xtest.shape)\n",
    "print(ytest.shape)"
   ]
  },
  {
   "cell_type": "markdown",
   "metadata": {},
   "source": [
    "### Define Functions for neural network"
   ]
  },
  {
   "cell_type": "code",
   "execution_count": 5,
   "metadata": {},
   "outputs": [],
   "source": [
    "# initialize weights\n",
    "def initialize(num_neur, d):\n",
    "    H= num_neur\n",
    "    \n",
    "    num_layers= d+2\n",
    "    \n",
    "    layersize= [0]*(num_layers+1)\n",
    "    layersize[0]= 784\n",
    "    \n",
    "    params= {}\n",
    "    \n",
    "    for l in range(1, num_layers):\n",
    "        if l== num_layers-1:\n",
    "            layersize[l] =1\n",
    "        else:\n",
    "            layersize[l]= 50\n",
    "            \n",
    "        \n",
    "        params['W'+str(l)]= np.random.normal(0, \n",
    "                            math.sqrt(1/layersize[l-1]), \n",
    "                            (layersize[l], layersize[l-1]))\n",
    "\n",
    "        params['b'+str(l)]= np.zeros((layersize[l], 1))\n",
    "        \n",
    "    return params\n",
    "\n"
   ]
  },
  {
   "cell_type": "code",
   "execution_count": 6,
   "metadata": {},
   "outputs": [],
   "source": [
    "def sigmoid(x):\n",
    "    return 1/(1+np.exp(-x))\n"
   ]
  },
  {
   "cell_type": "code",
   "execution_count": 7,
   "metadata": {},
   "outputs": [],
   "source": [
    "def sig_deriv(x):\n",
    "    S= sigmoid(x)\n",
    "    dS= np.multiply(S,(1-S))\n",
    "    \n",
    "    return dS\n",
    "    "
   ]
  },
  {
   "cell_type": "markdown",
   "metadata": {},
   "source": [
    "Forward Propagation"
   ]
  },
  {
   "cell_type": "code",
   "execution_count": 8,
   "metadata": {},
   "outputs": [],
   "source": [
    "def forward(x, params, num_layers):\n",
    "    \n",
    "    cache= {}\n",
    "\n",
    "    h= x\n",
    "    \n",
    "    for l in range(1, num_layers):\n",
    "        \n",
    "        h_prev= h\n",
    "        w= params['W'+str(l)]\n",
    "        b= params['b'+str(l)]\n",
    "        z= np.dot(w, h_prev)+b\n",
    "        h= sigmoid(z)\n",
    "        \n",
    "        cache['Z'+str(l)]= z\n",
    "        if l>1:\n",
    "            cache['H'+str(l-1)]= h\n",
    "        else:\n",
    "            cache['H'+str(l-1)]=x\n",
    "    f= h\n",
    "    \n",
    "    return f, cache\n",
    "    "
   ]
  },
  {
   "cell_type": "code",
   "execution_count": 9,
   "metadata": {},
   "outputs": [],
   "source": [
    "def loss_func(f, y):\n",
    "    m= y.shape[1]\n",
    "    \n",
    "    log= np.multiply(np.log(f), y)+np.multiply((1-y), np.log(1-f))\n",
    "    \n",
    "    loss= -np.sum(log)/m\n",
    "        \n",
    "    return np.squeeze(loss)"
   ]
  },
  {
   "cell_type": "markdown",
   "metadata": {},
   "source": [
    "Backwards propagation"
   ]
  },
  {
   "cell_type": "code",
   "execution_count": 10,
   "metadata": {},
   "outputs": [],
   "source": [
    "def backwards(f, y, params, cache, num_layers):\n",
    "    grade= {}\n",
    "    \n",
    "    m= f.shape[1]\n",
    "    y= y.reshape(f.shape)\n",
    "    \n",
    "    df= -(np.divide(y, f)-np.divide(1-y, 1-f))\n",
    "    dH_prev= df\n",
    "    \n",
    "    for i in reversed(range(1, num_layers)):\n",
    "        dH_cur= dH_prev\n",
    "        \n",
    "        w_cur= params['W'+str(i)]\n",
    "        z_cur= cache['Z'+str(i)]\n",
    "        h_prev= cache['H'+str(i-1)]\n",
    "        \n",
    "        dz, dw_cur, db_cur= reverse(dH_cur, z_cur, h_prev, w_cur)\n",
    "         \n",
    "        dH_prev= np.dot(w_cur.T, dz)\n",
    "        \n",
    "        grade[\"dW\"+str(i)]= dw_cur\n",
    "        grade[\"db\"+str(i)]= db_cur\n",
    "        \n",
    "        \n",
    "    return grade\n",
    "    \n",
    "    "
   ]
  },
  {
   "cell_type": "code",
   "execution_count": 15,
   "metadata": {},
   "outputs": [],
   "source": [
    "def reverse(dH, z, h_prev, w):\n",
    "    dZ= np.multiply(dH, sig_deriv(z))\n",
    "    m= h_prev.shape[1]\n",
    "    \n",
    "    dw= np.dot(dZ, h_prev.T)/m\n",
    "    db= np.sum(dZ, axis=1)/m\n",
    "    dH_prev= np.dot(w.T, dZ)\n",
    "    \n",
    "    return dZ, dw, db"
   ]
  },
  {
   "cell_type": "markdown",
   "metadata": {},
   "source": [
    "Update Parameters"
   ]
  },
  {
   "cell_type": "code",
   "execution_count": 16,
   "metadata": {},
   "outputs": [],
   "source": [
    "def update(params, grade, a, num_layers):\n",
    "    \n",
    "    for i in range(1, num_layers):\n",
    "        params[\"W\"+str(i)]= params[\"W\"+str(i)]-a*grade[\"dW\"+str(i)]\n",
    "        params[\"b\"+str(i)]= params[\"b\"+str(i)]-a*grade[\"db\"+str(i)]\n",
    "        \n",
    "    return params"
   ]
  },
  {
   "cell_type": "markdown",
   "metadata": {},
   "source": [
    "### Run network"
   ]
  },
  {
   "cell_type": "code",
   "execution_count": 17,
   "metadata": {},
   "outputs": [],
   "source": [
    "def NNtrain(x, y, train, num_neur, d, learnrate= 0.0075, num_iter= 10000):\n",
    "    loss=[]\n",
    "    \n",
    "    params = initialize(num_neur, d)\n",
    "    num_layers= d+2\n",
    "    \n",
    "    for i in range(num_iter):\n",
    "        \n",
    "        batch= train[:,[np.random.choice(train.shape[1], 100, replace=False)]]\n",
    "        batch= np.squeeze(batch)\n",
    "        xnew= np.split(train, [-1])[0]\n",
    "        ynew=np.split(train, [-1])[1]\n",
    "        \n",
    "        f, cache= forward(xnew, params, num_layers)\n",
    "        \n",
    "        lossoniter= loss_func(f, ynew)\n",
    "        \n",
    "        grade = backwards(f, ynew, params, cache, num_layers)\n",
    "        params =update(params, grade, learnrate, num_layers)\n",
    "        \n",
    "        if i%500==0:\n",
    "            print(\"Loss after iteration %i: %f\" %(i,lossoniter))\n",
    "            \n",
    "        loss.append(lossoniter)\n",
    "        \n",
    "    f, cache= forward(x, params, num_layers)\n",
    "    lossfinal= loss_func(f, y)\n",
    "    print(\"final loss= \"+ str(lossfinal))\n",
    "    \n",
    "    plt.plot(np.squeeze(loss))\n",
    "    plt.ylabel('loss')\n",
    "    plt.xlabel('iterations')\n",
    "    plt.show()\n",
    "    \n",
    "    return params, loss\n",
    "    "
   ]
  },
  {
   "cell_type": "code",
   "execution_count": 18,
   "metadata": {},
   "outputs": [
    {
     "name": "stdout",
     "output_type": "stream",
     "text": [
      "Loss after iteration 0: 0.682802\n",
      "Loss after iteration 500: 0.473610\n",
      "Loss after iteration 1000: 0.461222\n",
      "Loss after iteration 1500: 0.445484\n",
      "Loss after iteration 2000: 0.413127\n",
      "Loss after iteration 2500: 0.379691\n",
      "Loss after iteration 3000: 0.346468\n",
      "Loss after iteration 3500: 0.303171\n",
      "Loss after iteration 4000: 0.264147\n",
      "Loss after iteration 4500: 0.234374\n",
      "Loss after iteration 5000: 0.203936\n",
      "Loss after iteration 5500: 0.178610\n",
      "Loss after iteration 6000: 0.155054\n",
      "Loss after iteration 6500: 0.135874\n",
      "Loss after iteration 7000: 0.119463\n",
      "Loss after iteration 7500: 0.105321\n",
      "Loss after iteration 8000: 0.093116\n",
      "Loss after iteration 8500: 0.082174\n",
      "Loss after iteration 9000: 0.073516\n",
      "Loss after iteration 9500: 0.066023\n",
      "final loss= 0.05936027064030787\n"
     ]
    },
    {
     "data": {
      "image/png": "[encoded data removed]",
      "text/plain": [
       "<Figure size 432x288 with 1 Axes>"
      ]
     },
     "metadata": {
      "needs_background": "light"
     },
     "output_type": "display_data"
    }
   ],
   "source": [
    "trainedparams, loss= NNtrain(xtrain, ytrain, train, 50, 2)"
   ]
  },
  {
   "cell_type": "code",
   "execution_count": 19,
   "metadata": {},
   "outputs": [
    {
     "name": "stdout",
     "output_type": "stream",
     "text": [
      "0.05785867890765255\n"
     ]
    }
   ],
   "source": [
    "# Calculate Loss for test set\n",
    "f, cache= forward(xtest, trainedparams, 4)\n",
    "testloss= loss_func(f, ytest)\n",
    "print(testloss)"
   ]
  },
  {
   "cell_type": "markdown",
   "metadata": {},
   "source": [
    "### Part c: \n",
    "How does dW1 change as d gets bigger?"
   ]
  },
  {
   "cell_type": "code",
   "execution_count": 21,
   "metadata": {},
   "outputs": [
    {
     "name": "stdout",
     "output_type": "stream",
     "text": [
      "[3.2930179752687936, 0.6233535900346424, 0.1491313139600949, 0.03316026205293577]\n"
     ]
    }
   ],
   "source": [
    "dw1= []\n",
    "for i in range(4):\n",
    "    params= initialize(50, i+1)\n",
    "    f, cache= forward(xtrain, params, i+3)\n",
    "    grade = backwards(f, ytrain, params, cache, i+3)\n",
    "    dw1.append(np.linalg.norm(grade[\"dW\"+str(1)]))\n",
    "    \n",
    "print(dw1)\n",
    "\n",
    "# as you can see, the gradient is clearly decreasing\n",
    "# as the number of hidden layers increases"
   ]
  },
  {
   "cell_type": "code",
   "execution_count": null,
   "metadata": {},
   "outputs": [],
   "source": []
  }
 ],
 "metadata": {
  "kernelspec": {
   "display_name": "Python 3",
   "language": "python",
   "name": "python3"
  },
  "language_info": {
   "codemirror_mode": {
    "name": "ipython",
    "version": 3
   },
   "file_extension": ".py",
   "mimetype": "text/x-python",
   "name": "python",
   "nbconvert_exporter": "python",
   "pygments_lexer": "ipython3",
   "version": "3.7.3"
  }
 },
 "nbformat": 4,
 "nbformat_minor": 2
}
